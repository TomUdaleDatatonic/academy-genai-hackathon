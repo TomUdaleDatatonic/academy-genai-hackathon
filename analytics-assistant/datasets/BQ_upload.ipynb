{
 "cells": [
  {
   "cell_type": "code",
   "execution_count": null,
   "id": "5c256bcf-78a5-48fb-b0bd-bef22427d224",
   "metadata": {
    "tags": []
   },
   "outputs": [],
   "source": [
    "PROJECT_ID = \"PROJECT_ID\"\n",
    "DATASET_ID = \"hackathon\"\n",
    "\n",
    "SERVICE_ACCOUNT = \"SERVICE_ACCOUNT\"\n",
    "\n",
    "import os\n",
    "\n",
    "GOOGLE_APPLICATION_CREDENTIALS = \"../../credentials.json\"  # @param {type:\"string\"}\n",
    "os.environ[\"GOOGLE_APPLICATION_CREDENTIALS\"] = GOOGLE_APPLICATION_CREDENTIALS\n",
    "\n",
    "!gcloud config set account {SERVICE_ACCOUNT}\n",
    "!gcloud auth activate-service-account --key-file={GOOGLE_APPLICATION_CREDENTIALS}\n",
    "!gcloud config set project {PROJECT_ID} "
   ]
  },
  {
   "cell_type": "code",
   "execution_count": null,
   "id": "562f9329-d5e1-4d9a-a473-b87b24a272d3",
   "metadata": {
    "tags": []
   },
   "outputs": [],
   "source": [
    "from google.cloud import bigquery\n",
    "import os\n",
    "import glob"
   ]
  },
  {
   "cell_type": "code",
   "execution_count": null,
   "id": "d31ee7ee-07de-4458-bd81-6252cc9d5c01",
   "metadata": {
    "tags": []
   },
   "outputs": [],
   "source": [
    "client = bigquery.Client()"
   ]
  },
  {
   "cell_type": "code",
   "execution_count": null,
   "id": "9ebd77a4-9eb3-4584-8a47-486a3296b5b1",
   "metadata": {
    "tags": []
   },
   "outputs": [],
   "source": [
    "dataset = bigquery.Dataset(f\"{PROJECT_ID}.{DATASET_ID}\")\n",
    "dataset.location = \"EU\"\n",
    "dataset = client.create_dataset(dataset, timeout=30)  # Make an API request.\n",
    "print(\"Created dataset {}.{}\".format(client.project, dataset.dataset_id))"
   ]
  },
  {
   "cell_type": "code",
   "execution_count": null,
   "id": "3ca51509-6a67-4a0f-9cd0-62626aa7b51f",
   "metadata": {
    "tags": []
   },
   "outputs": [],
   "source": [
    "job_config = bigquery.LoadJobConfig(\n",
    "    source_format=bigquery.SourceFormat.CSV, skip_leading_rows=1, autodetect=True,\n",
    ")"
   ]
  },
  {
   "cell_type": "code",
   "execution_count": null,
   "id": "3ac837e4-07e4-492e-9b1a-c82b9a5813ec",
   "metadata": {
    "tags": []
   },
   "outputs": [],
   "source": [
    "for filename in glob.glob(\"*.csv\"):\n",
    "    \n",
    "    table_name = filename.split(\".\")[0]\n",
    "    table_id = f\"{PROJECT_ID}.{DATASET_ID}.{table_name}\"\n",
    "    \n",
    "    with open(filename, \"rb\") as source_file:\n",
    "        job = client.load_table_from_file(source_file, table_id, job_config=job_config)\n",
    "    \n",
    "    job.result()\n",
    "    \n",
    "    table = client.get_table(table_id)  # Make an API request.\n",
    "    print(\n",
    "        \"Loaded {} rows and {} columns to {}\".format(\n",
    "            table.num_rows, len(table.schema), table_id\n",
    "        )\n",
    "    )"
   ]
  }
 ],
 "metadata": {
  "environment": {
   "kernel": "conda-root-py",
   "name": "workbench-notebooks.m115",
   "type": "gcloud",
   "uri": "gcr.io/deeplearning-platform-release/workbench-notebooks:m115"
  },
  "kernelspec": {
   "display_name": "Python 3 (ipykernel) (Local)",
   "language": "python",
   "name": "conda-root-py"
  },
  "language_info": {
   "codemirror_mode": {
    "name": "ipython",
    "version": 3
   },
   "file_extension": ".py",
   "mimetype": "text/x-python",
   "name": "python",
   "nbconvert_exporter": "python",
   "pygments_lexer": "ipython3",
   "version": "3.10.13"
  }
 },
 "nbformat": 4,
 "nbformat_minor": 5
}
